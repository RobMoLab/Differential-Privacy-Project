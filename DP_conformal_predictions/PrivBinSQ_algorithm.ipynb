def NoisyRC(range_bounds, D, sigma):
    """
    Noisy Range Count for float values with Gaussian noise.

    Parameters:
    range_bounds (tuple): A tuple (a, b) representing the range [a, b].
    D (list): The sorted dataset.
    sigma (float): The standard deviation of the Gaussian noise.

    Returns:
    int: The noisy count of elements in the range [a, b].
    """
    a, b = range_bounds
    count = sum(1 for z in D if a <= z <= b)
    noise = np.random.normal(0, sigma)
    noisy_count = count + noise
    return max(0, int(np.floor(noisy_count)))  # Ensure non-negative count

def PrivQuant(D, alpha, rho, lower_bound=0, upper_bound=1, delta = 1e-10):
    """
    Differentially Private Quantile Approximation Algorithm without integer conversion.

    Parameters:
    D (list): The sorted dataset.
    alpha (float): The quantile level .
    rho (float): The privacy parameter.
    lower_bound (float): Lower bound of the search space.
    upper_bound (float): Upper bound of the search space.
    delta = 1e-10:# Small positive value to ensure convergence

    Returns:
    float: A differentially private approximation of the quantile s_{(m)}.
    """
    n = len(D)
    sigma = np.sqrt(np.ceil(np.log2((upper_bound-lower_bound)/delta)) / (2 * rho))
    m = int(np.ceil((1 - alpha) * (n + 1)))

    left, right = lower_bound, upper_bound
     

    while right - left > delta:
        mid = (left + right) / 2
        c = NoisyRC((lower_bound, mid), D, sigma)
        
        if c < m:
            left = mid + delta  # Shift the lower bound up
        else:
            right = mid  # Shrink the upper bound down

    return np.round((left + right) / 2,2)
